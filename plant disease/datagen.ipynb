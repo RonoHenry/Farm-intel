{
 "cells": [
  {
   "cell_type": "code",
   "execution_count": null,
   "metadata": {},
   "outputs": [],
   "source": [
    "#importing the necessay dependancies\n",
    "import random\n",
    "random.seed(0)\n",
    "import numpy as np\n",
    "np.random.seed(0)\n",
    "import matplotlib.pyplot as plt\n",
    "import tensorflow as tf\n",
    "tf.random.set_seed(0)\n",
    "from tensorflow.keras import models, layers\n",
    "from tensorflow.keras.preprocessing.image import  ImageDataGenerator"
   ]
  },
  {
   "cell_type": "code",
   "execution_count": null,
   "metadata": {},
   "outputs": [],
   "source": [
    "ImageDataGenerator(\n",
    "    rescale=1.0/255,          # Normalize pixel values\n",
    "    rotation_range=20,        # Rotate images up to 20 degrees\n",
    "    width_shift_range=0.2,    # Horizontal shift\n",
    "    height_shift_range=0.2,   # Vertical shift\n",
    "    shear_range=0.2,          # Shear transformation\n",
    "    zoom_range=0.2,           # Zoom in/out\n",
    "    horizontal_flip=True,     # Flip horizontally\n",
    "    fill_mode='nearest'\n",
    ")\n",
    "\n",
    "train_datagen.flow_from_directory(\n",
    "    \n",
    ")\n",
    "\n"
   ]
  }
 ],
 "metadata": {
  "language_info": {
   "name": "python"
  }
 },
 "nbformat": 4,
 "nbformat_minor": 2
}
